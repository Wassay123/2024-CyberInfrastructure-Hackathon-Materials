{
 "cells": [
  {
   "cell_type": "markdown",
   "metadata": {},
   "source": [
    "# **Using LSTM to Predict traffic patterns in Manhattan**"
   ]
  },
  {
   "cell_type": "markdown",
   "metadata": {},
   "source": [
    "As part of this cyberinfrastructure competition, teams must develop a machine learning model to help predict the movement of people in Manhattan. Due to the nature of the data, this might be confusing for some teams initially.\n",
    "\n",
    "This notebook seeks to expand upon the Training dataset and show how the data can be used to generate predictions using a sample LSTM Model\n",
    "\n",
    "We first begin with importing some basic machine learning related libraries"
   ]
  },
  {
   "cell_type": "code",
   "execution_count": 21,
   "metadata": {},
   "outputs": [],
   "source": [
    "import h5py\n",
    "import numpy as np\n",
    "from datetime import datetime\n",
    "from tensorflow.keras.models import Sequential, load_model\n",
    "from tensorflow.keras.layers import LSTM, Dense, Reshape"
   ]
  },
  {
   "cell_type": "markdown",
   "metadata": {},
   "source": [
    "## Opening the Training Data"
   ]
  },
  {
   "cell_type": "markdown",
   "metadata": {},
   "source": [
    "The TrainingData.h5 file is in HDF5 formatting. This isn't as common as .csv or .npy that many are familiar with. As such we'll first begin by just opening and reading the data.\n",
    "\n",
    "The training dataset consists of 2 subdatasets, trip and timeslot\n",
    "\n",
    "1) trip contains a list of bike traffic information of all the trips in Manhattan in a given time interval \n",
    "2) timeslot contains a list of the corresponding time intervals of the trip data\n",
    "\n",
    "Below we'll show how to open and access the trip and timeslot data"
   ]
  },
  {
   "cell_type": "code",
   "execution_count": 22,
   "metadata": {},
   "outputs": [],
   "source": [
    "with h5py.File('datasets/training_data.h5', 'r') as f:\n",
    "    # Access the trip dataset and their corresponding timestamps\n",
    "    traffic_data = f['trip'][()]\n",
    "    dates = f['timeslot'][()]"
   ]
  },
  {
   "cell_type": "markdown",
   "metadata": {},
   "source": [
    "## Understanding the Data"
   ]
  },
  {
   "cell_type": "markdown",
   "metadata": {},
   "source": [
    "Now let's examine the data and see what it looks like, as well as any potential preprocessing that we have to do\n",
    "\n",
    "First off, the timeslot data, each timeslot corresponds to a 30 minute interval in the month of October 2019. Examining the first timeslot interval in the data we can see its taken in 2019-10-01 (October 1st 2019) at time 00:30 (from 12 am to 12:30 am). As such there are roughly 48x31 timeslots in total (1488 data samples total).\n"
   ]
  },
  {
   "cell_type": "code",
   "execution_count": 23,
   "metadata": {},
   "outputs": [
    {
     "data": {
      "text/plain": [
       "b'201910010030'"
      ]
     },
     "execution_count": 23,
     "metadata": {},
     "output_type": "execute_result"
    }
   ],
   "source": [
    "dates[0]"
   ]
  },
  {
   "cell_type": "code",
   "execution_count": 24,
   "metadata": {},
   "outputs": [
    {
     "data": {
      "text/plain": [
       "(1488,)"
      ]
     },
     "execution_count": 24,
     "metadata": {},
     "output_type": "execute_result"
    }
   ],
   "source": [
    "dates.shape"
   ]
  },
  {
   "cell_type": "markdown",
   "metadata": {},
   "source": [
    "Next there's the trip data, each data sample consists of a 2x16x8 tensor. Here the first 16x8 matrix corresponds to how people moved out of different regions of Manhattan (outflow) and the second 16x8 matrix shows how people moved into different regions of Manhattan (inflow). With the 16x8 matrix being an abstracted map of Manhattan.\n"
   ]
  },
  {
   "cell_type": "code",
   "execution_count": 25,
   "metadata": {},
   "outputs": [
    {
     "data": {
      "text/plain": [
       "array([[[ 0.,  0.,  0.,  0.,  1.,  0.,  0.,  1.],\n",
       "        [ 0.,  0.,  3.,  4.,  4.,  0.,  1.,  0.],\n",
       "        [ 0.,  1.,  0.,  8.,  0.,  1.,  0.,  0.],\n",
       "        [ 0.,  0.,  2.,  5.,  1.,  2.,  1.,  0.],\n",
       "        [ 0.,  2.,  1.,  1.,  1.,  1.,  0.,  0.],\n",
       "        [ 0.,  0.,  2.,  1.,  5.,  2.,  0.,  0.],\n",
       "        [ 0.,  2.,  1.,  1.,  0.,  1.,  0.,  0.],\n",
       "        [ 0.,  4.,  4.,  6.,  7.,  0.,  0.,  0.],\n",
       "        [ 1.,  1., 11.,  4.,  2.,  0.,  0.,  1.],\n",
       "        [ 0.,  4.,  1.,  1.,  1.,  1.,  0.,  1.],\n",
       "        [ 0.,  1.,  1.,  0.,  0.,  0.,  0.,  2.],\n",
       "        [ 1.,  1.,  3.,  4.,  0.,  0.,  0.,  0.],\n",
       "        [ 2.,  2.,  0.,  2.,  0.,  0.,  1.,  0.],\n",
       "        [ 0.,  1.,  0.,  0.,  0.,  0.,  0.,  0.],\n",
       "        [ 1.,  0.,  0.,  0.,  0.,  0.,  0.,  0.],\n",
       "        [ 0.,  0.,  0.,  1.,  0.,  0.,  0.,  0.]],\n",
       "\n",
       "       [[ 0.,  0.,  0.,  0.,  1.,  0.,  0.,  1.],\n",
       "        [ 0.,  0.,  0.,  1.,  0.,  1.,  1.,  0.],\n",
       "        [ 0.,  1.,  1.,  3.,  0.,  1.,  2.,  0.],\n",
       "        [ 0.,  1.,  0.,  0.,  1.,  3.,  0.,  0.],\n",
       "        [ 0.,  0.,  1.,  1.,  2.,  2.,  0.,  0.],\n",
       "        [ 0.,  1.,  1.,  0.,  0.,  0.,  0.,  0.],\n",
       "        [ 0.,  0.,  3.,  1.,  1.,  5.,  0.,  0.],\n",
       "        [ 0.,  3.,  2.,  2.,  2.,  1.,  0.,  0.],\n",
       "        [ 0.,  0.,  3.,  7.,  2.,  1.,  0.,  0.],\n",
       "        [ 0.,  1.,  1.,  0.,  0.,  0.,  0.,  2.],\n",
       "        [ 0.,  0.,  0.,  4.,  0.,  0.,  0.,  0.],\n",
       "        [ 0.,  0.,  2.,  5.,  0.,  0.,  0.,  0.],\n",
       "        [ 1.,  1.,  0.,  0.,  0.,  0.,  0.,  1.],\n",
       "        [ 0.,  3.,  0.,  0.,  0.,  0.,  0.,  0.],\n",
       "        [ 1.,  0.,  0.,  0.,  0.,  0.,  0.,  0.],\n",
       "        [ 0.,  0.,  0.,  0.,  0.,  0.,  0.,  0.]]])"
      ]
     },
     "execution_count": 25,
     "metadata": {},
     "output_type": "execute_result"
    }
   ],
   "source": [
    "traffic_data[0]"
   ]
  },
  {
   "cell_type": "code",
   "execution_count": 26,
   "metadata": {},
   "outputs": [
    {
     "data": {
      "text/plain": [
       "(1488, 2, 16, 8)"
      ]
     },
     "execution_count": 26,
     "metadata": {},
     "output_type": "execute_result"
    }
   ],
   "source": [
    "traffic_data.shape"
   ]
  },
  {
   "cell_type": "markdown",
   "metadata": {},
   "source": [
    "## Processing the Data"
   ]
  },
  {
   "cell_type": "markdown",
   "metadata": {},
   "source": [
    "Before using the traffic and timeslot data. Some processing must be done to ensure the machine learning algorithm has the best accuracy. Note, all teams are welcome and encouraged to process the data however they wish. This tutorial only contains some basic data processing.\n",
    "\n",
    "For the timeslot dates data, we'll just change them from the stored string format into a list where the year, month, day, hour, and minute are separated for ease of use\n",
    "\n",
    "For the traffic trip data, we'll just do some scaling to ensure all the matrix values lie between the range (0, 1)"
   ]
  },
  {
   "cell_type": "code",
   "execution_count": 27,
   "metadata": {},
   "outputs": [],
   "source": [
    "formatted_dates = []\n",
    "\n",
    "for date_string in dates:\n",
    "    formatted_date = datetime.strptime(date_string.decode(), '%Y%m%d%H%M')\n",
    "\n",
    "    year = formatted_date.year\n",
    "    month = formatted_date.month\n",
    "    day = formatted_date.day\n",
    "    hour = formatted_date.hour\n",
    "    minute = formatted_date.minute\n",
    "\n",
    "    formatted_dates.append(np.array([year, month, day, hour, minute]))\n",
    "\n",
    "formatted_dates = np.array(formatted_dates).reshape(1488, 5, 1)"
   ]
  },
  {
   "cell_type": "code",
   "execution_count": 28,
   "metadata": {},
   "outputs": [
    {
     "data": {
      "text/plain": [
       "array([[2019],\n",
       "       [  10],\n",
       "       [   1],\n",
       "       [   0],\n",
       "       [  30]])"
      ]
     },
     "execution_count": 28,
     "metadata": {},
     "output_type": "execute_result"
    }
   ],
   "source": [
    "formatted_dates[0]"
   ]
  },
  {
   "cell_type": "code",
   "execution_count": 29,
   "metadata": {},
   "outputs": [
    {
     "data": {
      "text/plain": [
       "(1488, 5, 1)"
      ]
     },
     "execution_count": 29,
     "metadata": {},
     "output_type": "execute_result"
    }
   ],
   "source": [
    "formatted_dates.shape"
   ]
  },
  {
   "cell_type": "markdown",
   "metadata": {},
   "source": [
    "Now with the data processed, we'll do a simple training and testing split given the data we have. For this tutorial we will use the last 5 days of October 2019 to test out model and the rest for training.\n",
    "\n",
    "Note: As this data is time dependent, the data should not be shuffled during the train/test split process"
   ]
  },
  {
   "cell_type": "code",
   "execution_count": 30,
   "metadata": {},
   "outputs": [],
   "source": [
    "test_size = 240\n",
    "\n",
    "train_traffic_data = traffic_data[:-test_size]\n",
    "test_traffic_data = traffic_data[-test_size:]\n",
    "\n",
    "train_formatted_dates = formatted_dates[:-test_size]\n",
    "test_formatted_dates = formatted_dates[-test_size:]"
   ]
  },
  {
   "cell_type": "markdown",
   "metadata": {},
   "source": [
    "## Running the ML Models"
   ]
  },
  {
   "cell_type": "markdown",
   "metadata": {},
   "source": [
    "First we'll begin by changing the names of our data to match standard conventions. It's important to note here the goal of the model is to take in some timeslot and predict the traffic data tensor at that timeslot.\n",
    "\n",
    "As such the timeslot dates will be our X variable and the bike traffic data will be the target variable"
   ]
  },
  {
   "cell_type": "code",
   "execution_count": 31,
   "metadata": {},
   "outputs": [],
   "source": [
    "X_train, X_test = train_formatted_dates, test_formatted_dates\n",
    "y_train, y_test = train_traffic_data, test_traffic_data"
   ]
  },
  {
   "cell_type": "markdown",
   "metadata": {},
   "source": [
    "Next, we'll define a basic LSTM model. Teams are welcome to choose whichever model architecture they are comfortable with."
   ]
  },
  {
   "cell_type": "code",
   "execution_count": 32,
   "metadata": {},
   "outputs": [],
   "source": [
    "# Basic LSTM Model\n",
    "model = Sequential()\n",
    "model.add(LSTM(50, activation='tanh', input_shape=(5, 1)))\n",
    "model.add(Dense(2 * 16 * 8, activation='linear')) \n",
    "model.add(Reshape((2, 16, 8))) "
   ]
  },
  {
   "cell_type": "markdown",
   "metadata": {},
   "source": [
    "Next we'll compile and train the LSTM model. For this example, we'll be showing the Mean Square Error of the model at each epoch.\n",
    "\n",
    "Thanks to our earlier work organizing the data, the process of actually training and testing our model is straightforward"
   ]
  },
  {
   "cell_type": "code",
   "execution_count": 33,
   "metadata": {},
   "outputs": [
    {
     "name": "stdout",
     "output_type": "stream",
     "text": [
      "Epoch 1/10\n",
      "20/20 [==============================] - 2s 27ms/step - loss: 217.1857 - val_loss: 153.9529\n",
      "Epoch 2/10\n",
      "20/20 [==============================] - 0s 7ms/step - loss: 208.6914 - val_loss: 143.9790\n",
      "Epoch 3/10\n",
      "20/20 [==============================] - 0s 7ms/step - loss: 192.2602 - val_loss: 129.0650\n",
      "Epoch 4/10\n",
      "20/20 [==============================] - 0s 7ms/step - loss: 174.4699 - val_loss: 117.8866\n",
      "Epoch 5/10\n",
      "20/20 [==============================] - 0s 6ms/step - loss: 161.7602 - val_loss: 110.4278\n",
      "Epoch 6/10\n",
      "20/20 [==============================] - 0s 5ms/step - loss: 152.6542 - val_loss: 104.8919\n",
      "Epoch 7/10\n",
      "20/20 [==============================] - 0s 6ms/step - loss: 145.5654 - val_loss: 100.5318\n",
      "Epoch 8/10\n",
      "20/20 [==============================] - 0s 6ms/step - loss: 139.6667 - val_loss: 97.1776\n",
      "Epoch 9/10\n",
      "20/20 [==============================] - 0s 5ms/step - loss: 134.9512 - val_loss: 94.4948\n",
      "Epoch 10/10\n",
      "20/20 [==============================] - 0s 6ms/step - loss: 130.8913 - val_loss: 92.3725\n"
     ]
    },
    {
     "data": {
      "text/plain": [
       "<keras.callbacks.History at 0x1895d9c9f10>"
      ]
     },
     "execution_count": 33,
     "metadata": {},
     "output_type": "execute_result"
    }
   ],
   "source": [
    "model.compile(optimizer='adam', loss='mse')\n",
    "model.fit(X_train, y_train, epochs=10, batch_size=64, validation_data=(X_test, y_test))"
   ]
  },
  {
   "cell_type": "code",
   "execution_count": 34,
   "metadata": {},
   "outputs": [
    {
     "name": "stdout",
     "output_type": "stream",
     "text": [
      "8/8 [==============================] - 0s 3ms/step - loss: 92.3725\n",
      "Root Mean Squared Error: 9.611063590204829\n"
     ]
    }
   ],
   "source": [
    "mse = model.evaluate(X_test, y_test)\n",
    "\n",
    "# Show rmse to see how model performs on the test set\n",
    "rmse = np.sqrt(mse)\n",
    "print(f'Root Mean Squared Error: {rmse}')"
   ]
  },
  {
   "cell_type": "code",
   "execution_count": 35,
   "metadata": {},
   "outputs": [
    {
     "name": "stdout",
     "output_type": "stream",
     "text": [
      "Epoch 1/200\n",
      "20/20 [==============================] - 2s 29ms/step - loss: 127.2616 - val_loss: 90.3865\n",
      "Epoch 2/200\n",
      "20/20 [==============================] - 0s 6ms/step - loss: 123.6620 - val_loss: 88.8545\n",
      "Epoch 3/200\n",
      "20/20 [==============================] - 0s 6ms/step - loss: 120.8255 - val_loss: 87.7439\n",
      "Epoch 4/200\n",
      "20/20 [==============================] - 0s 6ms/step - loss: 118.5069 - val_loss: 86.9698\n",
      "Epoch 5/200\n",
      "20/20 [==============================] - 0s 7ms/step - loss: 116.6852 - val_loss: 86.4555\n",
      "Epoch 6/200\n",
      "20/20 [==============================] - 0s 8ms/step - loss: 115.1873 - val_loss: 86.0606\n",
      "Epoch 7/200\n",
      "20/20 [==============================] - 0s 8ms/step - loss: 114.0223 - val_loss: 85.8129\n",
      "Epoch 8/200\n",
      "20/20 [==============================] - 0s 6ms/step - loss: 113.0299 - val_loss: 85.5541\n",
      "Epoch 9/200\n",
      "20/20 [==============================] - 0s 5ms/step - loss: 112.2754 - val_loss: 85.6188\n",
      "Epoch 10/200\n",
      "20/20 [==============================] - 0s 5ms/step - loss: 111.6342 - val_loss: 85.6250\n",
      "Epoch 11/200\n",
      "20/20 [==============================] - 0s 6ms/step - loss: 111.1157 - val_loss: 85.5556\n",
      "Epoch 12/200\n",
      "20/20 [==============================] - 0s 6ms/step - loss: 110.7176 - val_loss: 85.6932\n",
      "Epoch 13/200\n",
      "20/20 [==============================] - 0s 5ms/step - loss: 110.3766 - val_loss: 85.7464\n",
      "Epoch 14/200\n",
      "20/20 [==============================] - 0s 6ms/step - loss: 110.1118 - val_loss: 85.8268\n",
      "Epoch 15/200\n",
      "20/20 [==============================] - 0s 6ms/step - loss: 109.9561 - val_loss: 86.0623\n",
      "Epoch 16/200\n",
      "20/20 [==============================] - 0s 6ms/step - loss: 109.7202 - val_loss: 85.9013\n",
      "Epoch 17/200\n",
      "20/20 [==============================] - 0s 5ms/step - loss: 109.5975 - val_loss: 86.0813\n",
      "Epoch 18/200\n",
      "20/20 [==============================] - 0s 7ms/step - loss: 109.4886 - val_loss: 86.0835\n",
      "Epoch 19/200\n",
      "20/20 [==============================] - 0s 6ms/step - loss: 109.3464 - val_loss: 85.8645\n",
      "Epoch 20/200\n",
      "20/20 [==============================] - 0s 5ms/step - loss: 109.0670 - val_loss: 86.0240\n",
      "Epoch 21/200\n",
      "20/20 [==============================] - 0s 5ms/step - loss: 108.5021 - val_loss: 85.0541\n",
      "Epoch 22/200\n",
      "20/20 [==============================] - 0s 7ms/step - loss: 107.5816 - val_loss: 83.7785\n",
      "Epoch 23/200\n",
      "20/20 [==============================] - 0s 7ms/step - loss: 105.9203 - val_loss: 83.4131\n",
      "Epoch 24/200\n",
      "20/20 [==============================] - 0s 7ms/step - loss: 104.3626 - val_loss: 80.0421\n",
      "Epoch 25/200\n",
      "20/20 [==============================] - 0s 6ms/step - loss: 103.8595 - val_loss: 80.9602\n",
      "Epoch 26/200\n",
      "20/20 [==============================] - 0s 6ms/step - loss: 102.3006 - val_loss: 78.2030\n",
      "Epoch 27/200\n",
      "20/20 [==============================] - 0s 6ms/step - loss: 100.1150 - val_loss: 74.2293\n",
      "Epoch 28/200\n",
      "20/20 [==============================] - 0s 6ms/step - loss: 96.3359 - val_loss: 72.9896\n",
      "Epoch 29/200\n",
      "20/20 [==============================] - 0s 6ms/step - loss: 92.5440 - val_loss: 69.2087\n",
      "Epoch 30/200\n",
      "20/20 [==============================] - 0s 6ms/step - loss: 88.8897 - val_loss: 66.8514\n",
      "Epoch 31/200\n",
      "20/20 [==============================] - 0s 6ms/step - loss: 85.4489 - val_loss: 64.7496\n",
      "Epoch 32/200\n",
      "20/20 [==============================] - 0s 6ms/step - loss: 82.7578 - val_loss: 63.5315\n",
      "Epoch 33/200\n",
      "20/20 [==============================] - 0s 6ms/step - loss: 81.0782 - val_loss: 63.6925\n",
      "Epoch 34/200\n",
      "20/20 [==============================] - 0s 7ms/step - loss: 79.3425 - val_loss: 63.7193\n",
      "Epoch 35/200\n",
      "20/20 [==============================] - 0s 8ms/step - loss: 78.3540 - val_loss: 63.9589\n",
      "Epoch 36/200\n",
      "20/20 [==============================] - 0s 10ms/step - loss: 77.5849 - val_loss: 63.6279\n",
      "Epoch 37/200\n",
      "20/20 [==============================] - 0s 7ms/step - loss: 76.8635 - val_loss: 63.1397\n",
      "Epoch 38/200\n",
      "20/20 [==============================] - 0s 6ms/step - loss: 76.4081 - val_loss: 63.9590\n",
      "Epoch 39/200\n",
      "20/20 [==============================] - 0s 6ms/step - loss: 75.9392 - val_loss: 63.2268\n",
      "Epoch 40/200\n",
      "20/20 [==============================] - 0s 7ms/step - loss: 75.3511 - val_loss: 63.5177\n",
      "Epoch 41/200\n",
      "20/20 [==============================] - 0s 7ms/step - loss: 74.8668 - val_loss: 62.5030\n",
      "Epoch 42/200\n",
      "20/20 [==============================] - 0s 6ms/step - loss: 74.3637 - val_loss: 62.7429\n",
      "Epoch 43/200\n",
      "20/20 [==============================] - 0s 6ms/step - loss: 73.8984 - val_loss: 63.1853\n",
      "Epoch 44/200\n",
      "20/20 [==============================] - 0s 6ms/step - loss: 73.4967 - val_loss: 63.1705\n",
      "Epoch 45/200\n",
      "20/20 [==============================] - 0s 6ms/step - loss: 73.2776 - val_loss: 62.8372\n",
      "Epoch 46/200\n",
      "20/20 [==============================] - 0s 6ms/step - loss: 72.8032 - val_loss: 62.6837\n",
      "Epoch 47/200\n",
      "20/20 [==============================] - 0s 5ms/step - loss: 72.3915 - val_loss: 62.8116\n",
      "Epoch 48/200\n",
      "20/20 [==============================] - 0s 5ms/step - loss: 72.0377 - val_loss: 63.0223\n",
      "Epoch 49/200\n",
      "20/20 [==============================] - 0s 5ms/step - loss: 71.7075 - val_loss: 62.6976\n",
      "Epoch 50/200\n",
      "20/20 [==============================] - 0s 5ms/step - loss: 71.3359 - val_loss: 63.0322\n",
      "Epoch 51/200\n",
      "20/20 [==============================] - 0s 6ms/step - loss: 71.0771 - val_loss: 63.1637\n",
      "Epoch 52/200\n",
      "20/20 [==============================] - 0s 6ms/step - loss: 71.0258 - val_loss: 62.7620\n",
      "Epoch 53/200\n",
      "20/20 [==============================] - 0s 7ms/step - loss: 70.6635 - val_loss: 63.0140\n",
      "Epoch 54/200\n",
      "20/20 [==============================] - 0s 6ms/step - loss: 70.4904 - val_loss: 63.1790\n",
      "Epoch 55/200\n",
      "20/20 [==============================] - 0s 6ms/step - loss: 70.1174 - val_loss: 63.4538\n",
      "Epoch 56/200\n",
      "20/20 [==============================] - 0s 6ms/step - loss: 70.0369 - val_loss: 63.1950\n",
      "Epoch 57/200\n",
      "20/20 [==============================] - 0s 5ms/step - loss: 69.5636 - val_loss: 63.6279\n",
      "Epoch 58/200\n",
      "20/20 [==============================] - 0s 6ms/step - loss: 68.9259 - val_loss: 62.7552\n",
      "Epoch 59/200\n",
      "20/20 [==============================] - 0s 6ms/step - loss: 69.8302 - val_loss: 62.5061\n",
      "Epoch 60/200\n",
      "20/20 [==============================] - 0s 7ms/step - loss: 69.1128 - val_loss: 64.8518\n",
      "Epoch 61/200\n",
      "20/20 [==============================] - 0s 5ms/step - loss: 69.1543 - val_loss: 63.2125\n",
      "Epoch 62/200\n",
      "20/20 [==============================] - 0s 5ms/step - loss: 68.6397 - val_loss: 63.7081\n",
      "Epoch 63/200\n",
      "20/20 [==============================] - 0s 5ms/step - loss: 68.2400 - val_loss: 63.3051\n",
      "Epoch 64/200\n",
      "20/20 [==============================] - 0s 5ms/step - loss: 67.8341 - val_loss: 63.8039\n",
      "Epoch 65/200\n",
      "20/20 [==============================] - 0s 6ms/step - loss: 67.6880 - val_loss: 63.8866\n",
      "Epoch 66/200\n",
      "20/20 [==============================] - 0s 6ms/step - loss: 67.3793 - val_loss: 63.8299\n",
      "Epoch 67/200\n",
      "20/20 [==============================] - 0s 5ms/step - loss: 67.2851 - val_loss: 63.6001\n",
      "Epoch 68/200\n",
      "20/20 [==============================] - 0s 5ms/step - loss: 67.1361 - val_loss: 63.8690\n",
      "Epoch 69/200\n",
      "20/20 [==============================] - 0s 5ms/step - loss: 67.0541 - val_loss: 63.3055\n",
      "Epoch 70/200\n",
      "20/20 [==============================] - 0s 5ms/step - loss: 66.9577 - val_loss: 63.9971\n",
      "Epoch 71/200\n",
      "20/20 [==============================] - 0s 6ms/step - loss: 66.6768 - val_loss: 63.8132\n",
      "Epoch 72/200\n",
      "20/20 [==============================] - 0s 6ms/step - loss: 66.5473 - val_loss: 63.5805\n",
      "Epoch 73/200\n",
      "20/20 [==============================] - 0s 6ms/step - loss: 66.4320 - val_loss: 63.6883\n",
      "Epoch 74/200\n",
      "20/20 [==============================] - 0s 6ms/step - loss: 66.4150 - val_loss: 63.8999\n",
      "Epoch 75/200\n",
      "20/20 [==============================] - 0s 5ms/step - loss: 66.5930 - val_loss: 63.4721\n",
      "Epoch 76/200\n",
      "20/20 [==============================] - 0s 5ms/step - loss: 66.2071 - val_loss: 63.9642\n",
      "Epoch 77/200\n",
      "20/20 [==============================] - 0s 6ms/step - loss: 66.0460 - val_loss: 64.1774\n",
      "Epoch 78/200\n",
      "20/20 [==============================] - 0s 5ms/step - loss: 66.0861 - val_loss: 63.2542\n",
      "Epoch 79/200\n",
      "20/20 [==============================] - 0s 6ms/step - loss: 65.9775 - val_loss: 63.9130\n",
      "Epoch 80/200\n",
      "20/20 [==============================] - 0s 6ms/step - loss: 65.9250 - val_loss: 63.7799\n",
      "Epoch 81/200\n",
      "20/20 [==============================] - 0s 6ms/step - loss: 65.7168 - val_loss: 64.4135\n",
      "Epoch 82/200\n",
      "20/20 [==============================] - 0s 5ms/step - loss: 65.5959 - val_loss: 63.9413\n",
      "Epoch 83/200\n",
      "20/20 [==============================] - 0s 5ms/step - loss: 65.5917 - val_loss: 63.6121\n",
      "Epoch 84/200\n",
      "20/20 [==============================] - 0s 6ms/step - loss: 65.3091 - val_loss: 63.5379\n",
      "Epoch 85/200\n",
      "20/20 [==============================] - 0s 6ms/step - loss: 65.2914 - val_loss: 63.7103\n",
      "Epoch 86/200\n",
      "20/20 [==============================] - 0s 6ms/step - loss: 65.2040 - val_loss: 63.8459\n",
      "Epoch 87/200\n",
      "20/20 [==============================] - 0s 5ms/step - loss: 65.1964 - val_loss: 64.4657\n",
      "Epoch 88/200\n",
      "20/20 [==============================] - 0s 5ms/step - loss: 65.0770 - val_loss: 63.2049\n",
      "Epoch 89/200\n",
      "20/20 [==============================] - 0s 5ms/step - loss: 65.1164 - val_loss: 64.4484\n",
      "Epoch 90/200\n",
      "20/20 [==============================] - 0s 5ms/step - loss: 65.0834 - val_loss: 63.9092\n",
      "Epoch 91/200\n",
      "20/20 [==============================] - 0s 6ms/step - loss: 65.0504 - val_loss: 63.2146\n",
      "Epoch 92/200\n",
      "20/20 [==============================] - 0s 6ms/step - loss: 64.6971 - val_loss: 63.3106\n",
      "Epoch 93/200\n",
      "20/20 [==============================] - 0s 5ms/step - loss: 64.5153 - val_loss: 63.1162\n",
      "Epoch 94/200\n",
      "20/20 [==============================] - 0s 5ms/step - loss: 64.6007 - val_loss: 63.2306\n",
      "Epoch 95/200\n",
      "20/20 [==============================] - 0s 6ms/step - loss: 64.4828 - val_loss: 63.1680\n",
      "Epoch 96/200\n",
      "20/20 [==============================] - 0s 5ms/step - loss: 64.4301 - val_loss: 63.3183\n",
      "Epoch 97/200\n",
      "20/20 [==============================] - 0s 5ms/step - loss: 64.5375 - val_loss: 63.8912\n",
      "Epoch 98/200\n",
      "20/20 [==============================] - 0s 6ms/step - loss: 64.3336 - val_loss: 62.8953\n",
      "Epoch 99/200\n",
      "20/20 [==============================] - 0s 5ms/step - loss: 64.2194 - val_loss: 63.2594\n",
      "Epoch 100/200\n",
      "20/20 [==============================] - 0s 5ms/step - loss: 64.1218 - val_loss: 63.3342\n",
      "Epoch 101/200\n",
      "20/20 [==============================] - 0s 5ms/step - loss: 64.0943 - val_loss: 63.2131\n",
      "Epoch 102/200\n",
      "20/20 [==============================] - 0s 5ms/step - loss: 63.9078 - val_loss: 62.8536\n",
      "Epoch 103/200\n",
      "20/20 [==============================] - 0s 5ms/step - loss: 64.1303 - val_loss: 63.1327\n",
      "Epoch 104/200\n",
      "20/20 [==============================] - 0s 5ms/step - loss: 63.8533 - val_loss: 63.2936\n",
      "Epoch 105/200\n",
      "20/20 [==============================] - 0s 5ms/step - loss: 63.8004 - val_loss: 62.8624\n",
      "Epoch 106/200\n",
      "20/20 [==============================] - 0s 5ms/step - loss: 63.8114 - val_loss: 62.9534\n",
      "Epoch 107/200\n",
      "20/20 [==============================] - 0s 5ms/step - loss: 63.9040 - val_loss: 62.7304\n",
      "Epoch 108/200\n",
      "20/20 [==============================] - 0s 5ms/step - loss: 63.5658 - val_loss: 62.6088\n",
      "Epoch 109/200\n",
      "20/20 [==============================] - 0s 6ms/step - loss: 63.4482 - val_loss: 62.6728\n",
      "Epoch 110/200\n",
      "20/20 [==============================] - 0s 5ms/step - loss: 63.4122 - val_loss: 62.5369\n",
      "Epoch 111/200\n",
      "20/20 [==============================] - 0s 6ms/step - loss: 63.2253 - val_loss: 62.1509\n",
      "Epoch 112/200\n",
      "20/20 [==============================] - 0s 5ms/step - loss: 62.9518 - val_loss: 61.9425\n",
      "Epoch 113/200\n",
      "20/20 [==============================] - 0s 6ms/step - loss: 63.0396 - val_loss: 62.5224\n",
      "Epoch 114/200\n",
      "20/20 [==============================] - 0s 7ms/step - loss: 62.9983 - val_loss: 61.9230\n",
      "Epoch 115/200\n",
      "20/20 [==============================] - 0s 6ms/step - loss: 63.0852 - val_loss: 62.0340\n",
      "Epoch 116/200\n",
      "20/20 [==============================] - 0s 6ms/step - loss: 63.0422 - val_loss: 62.1418\n",
      "Epoch 117/200\n",
      "20/20 [==============================] - 0s 6ms/step - loss: 63.0885 - val_loss: 62.1312\n",
      "Epoch 118/200\n",
      "20/20 [==============================] - 0s 5ms/step - loss: 62.8856 - val_loss: 62.7265\n",
      "Epoch 119/200\n",
      "20/20 [==============================] - 0s 5ms/step - loss: 63.0140 - val_loss: 61.9201\n",
      "Epoch 120/200\n",
      "20/20 [==============================] - 0s 6ms/step - loss: 63.0175 - val_loss: 62.6660\n",
      "Epoch 121/200\n",
      "20/20 [==============================] - 0s 6ms/step - loss: 62.6351 - val_loss: 61.6454\n",
      "Epoch 122/200\n",
      "20/20 [==============================] - 0s 7ms/step - loss: 62.3606 - val_loss: 61.8929\n",
      "Epoch 123/200\n",
      "20/20 [==============================] - 0s 5ms/step - loss: 62.5175 - val_loss: 62.3931\n",
      "Epoch 124/200\n",
      "20/20 [==============================] - 0s 6ms/step - loss: 62.2227 - val_loss: 61.7653\n",
      "Epoch 125/200\n",
      "20/20 [==============================] - 0s 6ms/step - loss: 62.1312 - val_loss: 61.8517\n",
      "Epoch 126/200\n",
      "20/20 [==============================] - 0s 5ms/step - loss: 62.0788 - val_loss: 61.8510\n",
      "Epoch 127/200\n",
      "20/20 [==============================] - 0s 5ms/step - loss: 62.0752 - val_loss: 61.8050\n",
      "Epoch 128/200\n",
      "20/20 [==============================] - 0s 5ms/step - loss: 62.1509 - val_loss: 61.8727\n",
      "Epoch 129/200\n",
      "20/20 [==============================] - 0s 5ms/step - loss: 62.1686 - val_loss: 61.9224\n",
      "Epoch 130/200\n",
      "20/20 [==============================] - 0s 7ms/step - loss: 62.1409 - val_loss: 61.2965\n",
      "Epoch 131/200\n",
      "20/20 [==============================] - 0s 7ms/step - loss: 61.7650 - val_loss: 61.5659\n",
      "Epoch 132/200\n",
      "20/20 [==============================] - 0s 8ms/step - loss: 61.6456 - val_loss: 61.1376\n",
      "Epoch 133/200\n",
      "20/20 [==============================] - 0s 8ms/step - loss: 61.5811 - val_loss: 61.4785\n",
      "Epoch 134/200\n",
      "20/20 [==============================] - 0s 9ms/step - loss: 61.4137 - val_loss: 60.6618\n",
      "Epoch 135/200\n",
      "20/20 [==============================] - 0s 9ms/step - loss: 61.3019 - val_loss: 60.7445\n",
      "Epoch 136/200\n",
      "20/20 [==============================] - 0s 9ms/step - loss: 61.2068 - val_loss: 60.3014\n",
      "Epoch 137/200\n",
      "20/20 [==============================] - 0s 7ms/step - loss: 60.9430 - val_loss: 59.7634\n",
      "Epoch 138/200\n",
      "20/20 [==============================] - 0s 9ms/step - loss: 60.6455 - val_loss: 59.8404\n",
      "Epoch 139/200\n",
      "20/20 [==============================] - 0s 10ms/step - loss: 60.5419 - val_loss: 59.3780\n",
      "Epoch 140/200\n",
      "20/20 [==============================] - 0s 6ms/step - loss: 60.4735 - val_loss: 59.9952\n",
      "Epoch 141/200\n",
      "20/20 [==============================] - 0s 5ms/step - loss: 60.2154 - val_loss: 59.5759\n",
      "Epoch 142/200\n",
      "20/20 [==============================] - 0s 5ms/step - loss: 60.2219 - val_loss: 59.3750\n",
      "Epoch 143/200\n",
      "20/20 [==============================] - 0s 6ms/step - loss: 60.1990 - val_loss: 59.6226\n",
      "Epoch 144/200\n",
      "20/20 [==============================] - 0s 6ms/step - loss: 60.2216 - val_loss: 59.2077\n",
      "Epoch 145/200\n",
      "20/20 [==============================] - 0s 6ms/step - loss: 59.9492 - val_loss: 59.5722\n",
      "Epoch 146/200\n",
      "20/20 [==============================] - 0s 5ms/step - loss: 59.6636 - val_loss: 59.5328\n",
      "Epoch 147/200\n",
      "20/20 [==============================] - 0s 6ms/step - loss: 59.6217 - val_loss: 59.5117\n",
      "Epoch 148/200\n",
      "20/20 [==============================] - 0s 5ms/step - loss: 59.7523 - val_loss: 59.7117\n",
      "Epoch 149/200\n",
      "20/20 [==============================] - 0s 6ms/step - loss: 59.4777 - val_loss: 59.2785\n",
      "Epoch 150/200\n",
      "20/20 [==============================] - 0s 5ms/step - loss: 59.3954 - val_loss: 59.1347\n",
      "Epoch 151/200\n",
      "20/20 [==============================] - 0s 7ms/step - loss: 59.1417 - val_loss: 59.2018\n",
      "Epoch 152/200\n",
      "20/20 [==============================] - 0s 6ms/step - loss: 58.9955 - val_loss: 58.9320\n",
      "Epoch 153/200\n",
      "20/20 [==============================] - 0s 5ms/step - loss: 58.8935 - val_loss: 59.1450\n",
      "Epoch 154/200\n",
      "20/20 [==============================] - 0s 6ms/step - loss: 58.7918 - val_loss: 59.0919\n",
      "Epoch 155/200\n",
      "20/20 [==============================] - 0s 6ms/step - loss: 58.6197 - val_loss: 58.5330\n",
      "Epoch 156/200\n",
      "20/20 [==============================] - 0s 6ms/step - loss: 58.6348 - val_loss: 59.0208\n",
      "Epoch 157/200\n",
      "20/20 [==============================] - 0s 6ms/step - loss: 58.6659 - val_loss: 59.1078\n",
      "Epoch 158/200\n",
      "20/20 [==============================] - 0s 6ms/step - loss: 58.4441 - val_loss: 58.5447\n",
      "Epoch 159/200\n",
      "20/20 [==============================] - 0s 5ms/step - loss: 58.3485 - val_loss: 58.4360\n",
      "Epoch 160/200\n",
      "20/20 [==============================] - 0s 6ms/step - loss: 58.1603 - val_loss: 58.3701\n",
      "Epoch 161/200\n",
      "20/20 [==============================] - 0s 5ms/step - loss: 58.0725 - val_loss: 58.1199\n",
      "Epoch 162/200\n",
      "20/20 [==============================] - 0s 6ms/step - loss: 58.0541 - val_loss: 58.2019\n",
      "Epoch 163/200\n",
      "20/20 [==============================] - 0s 6ms/step - loss: 57.8482 - val_loss: 58.2462\n",
      "Epoch 164/200\n",
      "20/20 [==============================] - 0s 6ms/step - loss: 57.8662 - val_loss: 58.1926\n",
      "Epoch 165/200\n",
      "20/20 [==============================] - 0s 5ms/step - loss: 57.6737 - val_loss: 57.7501\n",
      "Epoch 166/200\n",
      "20/20 [==============================] - 0s 5ms/step - loss: 57.6429 - val_loss: 57.7007\n",
      "Epoch 167/200\n",
      "20/20 [==============================] - 0s 5ms/step - loss: 57.4752 - val_loss: 58.0560\n",
      "Epoch 168/200\n",
      "20/20 [==============================] - 0s 5ms/step - loss: 57.4099 - val_loss: 57.5630\n",
      "Epoch 169/200\n",
      "20/20 [==============================] - 0s 6ms/step - loss: 57.4062 - val_loss: 57.3101\n",
      "Epoch 170/200\n",
      "20/20 [==============================] - 0s 6ms/step - loss: 57.1409 - val_loss: 57.9785\n",
      "Epoch 171/200\n",
      "20/20 [==============================] - 0s 5ms/step - loss: 57.1084 - val_loss: 56.9674\n",
      "Epoch 172/200\n",
      "20/20 [==============================] - 0s 5ms/step - loss: 56.8977 - val_loss: 57.8469\n",
      "Epoch 173/200\n",
      "20/20 [==============================] - 0s 6ms/step - loss: 56.8522 - val_loss: 57.7901\n",
      "Epoch 174/200\n",
      "20/20 [==============================] - 0s 5ms/step - loss: 57.0992 - val_loss: 56.9486\n",
      "Epoch 175/200\n",
      "20/20 [==============================] - 0s 5ms/step - loss: 56.7518 - val_loss: 57.5953\n",
      "Epoch 176/200\n",
      "20/20 [==============================] - 0s 5ms/step - loss: 56.4092 - val_loss: 56.9282\n",
      "Epoch 177/200\n",
      "20/20 [==============================] - 0s 5ms/step - loss: 56.3919 - val_loss: 56.7161\n",
      "Epoch 178/200\n",
      "20/20 [==============================] - 0s 6ms/step - loss: 56.3004 - val_loss: 56.8483\n",
      "Epoch 179/200\n",
      "20/20 [==============================] - 0s 5ms/step - loss: 56.0693 - val_loss: 56.9209\n",
      "Epoch 180/200\n",
      "20/20 [==============================] - 0s 5ms/step - loss: 55.9248 - val_loss: 56.0129\n",
      "Epoch 181/200\n",
      "20/20 [==============================] - 0s 6ms/step - loss: 55.9528 - val_loss: 56.9556\n",
      "Epoch 182/200\n",
      "20/20 [==============================] - 0s 6ms/step - loss: 55.5771 - val_loss: 56.0184\n",
      "Epoch 183/200\n",
      "20/20 [==============================] - 0s 6ms/step - loss: 55.6319 - val_loss: 56.4247\n",
      "Epoch 184/200\n",
      "20/20 [==============================] - 0s 5ms/step - loss: 55.5418 - val_loss: 55.8015\n",
      "Epoch 185/200\n",
      "20/20 [==============================] - 0s 5ms/step - loss: 55.3381 - val_loss: 56.3567\n",
      "Epoch 186/200\n",
      "20/20 [==============================] - 0s 5ms/step - loss: 55.1359 - val_loss: 55.2413\n",
      "Epoch 187/200\n",
      "20/20 [==============================] - 0s 6ms/step - loss: 54.9529 - val_loss: 56.4947\n",
      "Epoch 188/200\n",
      "20/20 [==============================] - 0s 6ms/step - loss: 55.2973 - val_loss: 55.7823\n",
      "Epoch 189/200\n",
      "20/20 [==============================] - 0s 6ms/step - loss: 54.8391 - val_loss: 55.4193\n",
      "Epoch 190/200\n",
      "20/20 [==============================] - 0s 6ms/step - loss: 54.7863 - val_loss: 55.4205\n",
      "Epoch 191/200\n",
      "20/20 [==============================] - 0s 6ms/step - loss: 54.5520 - val_loss: 55.0896\n",
      "Epoch 192/200\n",
      "20/20 [==============================] - 0s 5ms/step - loss: 54.4752 - val_loss: 55.2770\n",
      "Epoch 193/200\n",
      "20/20 [==============================] - 0s 7ms/step - loss: 54.4410 - val_loss: 54.0518\n",
      "Epoch 194/200\n",
      "20/20 [==============================] - 0s 6ms/step - loss: 54.1938 - val_loss: 54.0808\n",
      "Epoch 195/200\n",
      "20/20 [==============================] - 0s 6ms/step - loss: 54.1405 - val_loss: 55.2780\n",
      "Epoch 196/200\n",
      "20/20 [==============================] - 0s 5ms/step - loss: 54.0647 - val_loss: 53.8415\n",
      "Epoch 197/200\n",
      "20/20 [==============================] - 0s 5ms/step - loss: 53.9283 - val_loss: 54.5657\n",
      "Epoch 198/200\n",
      "20/20 [==============================] - 0s 5ms/step - loss: 53.7744 - val_loss: 53.9676\n",
      "Epoch 199/200\n",
      "20/20 [==============================] - 0s 6ms/step - loss: 53.6450 - val_loss: 54.2127\n",
      "Epoch 200/200\n",
      "20/20 [==============================] - 0s 6ms/step - loss: 53.6099 - val_loss: 54.2735\n"
     ]
    },
    {
     "data": {
      "text/plain": [
       "<keras.callbacks.History at 0x18972601ca0>"
      ]
     },
     "execution_count": 35,
     "metadata": {},
     "output_type": "execute_result"
    }
   ],
   "source": [
    "model.compile(optimizer='adam', loss='mse')\n",
    "model.fit(X_train, y_train, epochs=200, batch_size=64, validation_data=(X_test, y_test))"
   ]
  },
  {
   "cell_type": "markdown",
   "metadata": {},
   "source": [
    "When examining the model's results during the training stage it's important to make sure the model's loss gets lower as the number of epochs grows. This is a good indication that the model is actually learning the correct patterns and trends in the data. \n",
    "\n",
    "Also this example will not delve into things like hyperparameter tuning, but this is a good way to try and get some extra performance out of your model. Just make sure to not overfit your hyperparameters to the data as these models will be tested later on with a separate dataset as part of the criteria to decide where teams will place overall."
   ]
  },
  {
   "cell_type": "code",
   "execution_count": 36,
   "metadata": {},
   "outputs": [
    {
     "name": "stdout",
     "output_type": "stream",
     "text": [
      "8/8 [==============================] - 0s 3ms/step - loss: 54.2735\n",
      "Root Mean Squared Error: 7.36705209520649\n"
     ]
    }
   ],
   "source": [
    "mse = model.evaluate(X_test, y_test)\n",
    "\n",
    "# Show rmse to see how model performs on the test set\n",
    "rmse = np.sqrt(mse)\n",
    "print(f'Root Mean Squared Error: {rmse}')"
   ]
  },
  {
   "cell_type": "markdown",
   "metadata": {},
   "source": [
    "The model performs well, the rmse is low and is quite similar to the model's performance on the test set after 20 epochs. Let's go ahead and show how to save and reload this model.\n",
    "\n",
    "This is a very important step as your models will be tested later on as well so having your models saved will make this process much easier. This is especially true for larger models that may take a long time to train. Below we show a quick example of how to save and reload the weights of your model"
   ]
  },
  {
   "cell_type": "code",
   "execution_count": 37,
   "metadata": {},
   "outputs": [],
   "source": [
    "model.save('lstm_model.keras')"
   ]
  },
  {
   "cell_type": "code",
   "execution_count": 38,
   "metadata": {},
   "outputs": [
    {
     "name": "stdout",
     "output_type": "stream",
     "text": [
      "8/8 [==============================] - 0s 3ms/step - loss: 54.2735\n",
      "Root Mean Squared Error: 7.36705209520649\n"
     ]
    }
   ],
   "source": [
    "new_model = load_model('lstm_model.keras')\n",
    "\n",
    "mse = new_model.evaluate(X_test, y_test)\n",
    "\n",
    "# Show rmse to see how model performs on the test set\n",
    "rmse = np.sqrt(mse)\n",
    "print(f'Root Mean Squared Error: {rmse}')"
   ]
  },
  {
   "cell_type": "markdown",
   "metadata": {},
   "source": [
    "This concludes this tutorial notebook. Please keep in mind that you don't need to replicate this tutorial in your final models. Teams are welcome to preprocess their data differently, change their model's architectures, change their model's hyperparameters, etc. this is a time to learn and explore different topics within the scope of machine learning.\n",
    "\n",
    "If any teams have follow up questions or need any help relating to this hackathon please feel free to attend any of the upcoming sessions. We are all more than happy to help answer any questions you might have!"
   ]
  },
  {
   "cell_type": "markdown",
   "metadata": {},
   "source": [
    "# **Thank you and best of luck in the competition!**"
   ]
  }
 ],
 "metadata": {
  "kernelspec": {
   "display_name": "main",
   "language": "python",
   "name": "python3"
  },
  "language_info": {
   "codemirror_mode": {
    "name": "ipython",
    "version": 3
   },
   "file_extension": ".py",
   "mimetype": "text/x-python",
   "name": "python",
   "nbconvert_exporter": "python",
   "pygments_lexer": "ipython3",
   "version": "3.9.18"
  }
 },
 "nbformat": 4,
 "nbformat_minor": 2
}
